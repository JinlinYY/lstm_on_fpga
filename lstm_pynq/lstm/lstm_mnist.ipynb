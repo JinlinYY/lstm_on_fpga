{
 "cells": [
  {
   "cell_type": "markdown",
   "metadata": {},
   "source": [
    "# 1. 加载Overlay，定义DMA对象"
   ]
  },
  {
   "cell_type": "code",
   "execution_count": 1,
   "metadata": {},
   "outputs": [
    {
     "data": {
      "application/javascript": [
       "\n",
       "try {\n",
       "require(['notebook/js/codecell'], function(codecell) {\n",
       "  codecell.CodeCell.options_default.highlight_modes[\n",
       "      'magic_text/x-csrc'] = {'reg':[/^%%microblaze/]};\n",
       "  Jupyter.notebook.events.one('kernel_ready.Kernel', function(){\n",
       "      Jupyter.notebook.get_cells().map(function(cell){\n",
       "          if (cell.cell_type == 'code'){ cell.auto_highlight(); } }) ;\n",
       "  });\n",
       "});\n",
       "} catch (e) {};\n"
      ]
     },
     "metadata": {},
     "output_type": "display_data"
    },
    {
     "data": {
      "application/javascript": [
       "\n",
       "try {\n",
       "require(['notebook/js/codecell'], function(codecell) {\n",
       "  codecell.CodeCell.options_default.highlight_modes[\n",
       "      'magic_text/x-csrc'] = {'reg':[/^%%pybind11/]};\n",
       "  Jupyter.notebook.events.one('kernel_ready.Kernel', function(){\n",
       "      Jupyter.notebook.get_cells().map(function(cell){\n",
       "          if (cell.cell_type == 'code'){ cell.auto_highlight(); } }) ;\n",
       "  });\n",
       "});\n",
       "} catch (e) {};\n"
      ]
     },
     "metadata": {},
     "output_type": "display_data"
    }
   ],
   "source": [
    "from pynq import Overlay, allocate\n",
    "import pynq.lib.dma\n",
    "overlay = Overlay('/home/xilinx/jupyter_notebooks/lstm/vivado_mnist/lstm_mnist.bit') # 加载Overlay\n",
    "dma = overlay.axi_dma_0  # 定义DMA对象"
   ]
  },
  {
   "cell_type": "markdown",
   "metadata": {},
   "source": [
    "# 2. 解析MNIST测试集图片和标签数据"
   ]
  },
  {
   "cell_type": "code",
   "execution_count": 3,
   "metadata": {},
   "outputs": [
    {
     "name": "stdout",
     "output_type": "stream",
     "text": [
      "magic number: 2051; image number: 10000; image size: 28px*28px\n",
      "done\n",
      "magic number:2049; image number: 10000\n",
      "done\n"
     ]
    }
   ],
   "source": [
    "import read_mnist as reader\n",
    "test_images = reader.load_images('data_mnist/t10k-images.idx3-ubyte')  # 读取测试集图片\n",
    "test_labels = reader.load_labels('data_mnist/t10k-labels.idx1-ubyte')  # 读取测试集标签 \n",
    "# print(test_images[1].shape)\n",
    "# print(test_images[1])"
   ]
  },
  {
   "cell_type": "markdown",
   "metadata": {},
   "source": [
    "# 3. 从测试集中随机选取并显示若干图片"
   ]
  },
  {
   "cell_type": "code",
   "execution_count": 4,
   "metadata": {},
   "outputs": [
    {
     "name": "stdout",
     "output_type": "stream",
     "text": [
      "Image labels:  [7 1 7 6 9 2 1 7 9 0]\n"
     ]
    },
    {
     "data": {
      "text/plain": [
       "<matplotlib.figure.Figure at 0xaec3c8d0>"
      ]
     },
     "metadata": {},
     "output_type": "display_data"
    }
   ],
   "source": [
    "import random\n",
    "import numpy as np\n",
    "import matplotlib.pyplot as plt\n",
    "\n",
    "IMG_NUM = 10\n",
    "\n",
    "index = [0] * IMG_NUM\n",
    "img = [0] * IMG_NUM\n",
    "for i in range (IMG_NUM):\n",
    "    index[i] = random.randint(0, 10000)  # 在测试集中随机选取8张图片\n",
    "    img_dat = np.array(test_images[index[i]]).reshape(28, 28)\n",
    "\n",
    "# 显示上面选取的8张测试图片\n",
    "plt.figure()\n",
    "for i in range (IMG_NUM):\n",
    "    plt.subplot(1, IMG_NUM, i + 1)\n",
    "    plt.imshow(np.array(test_images[index[i]]).reshape(28, 28),cmap='gray')\n",
    "print('Image labels: ', test_labels[index])\n",
    "plt.show()"
   ]
  },
  {
   "cell_type": "markdown",
   "metadata": {},
   "source": [
    "# 4. 利用IP核加速RNN推导"
   ]
  },
  {
   "cell_type": "code",
   "execution_count": 5,
   "metadata": {},
   "outputs": [
    {
     "name": "stdout",
     "output_type": "stream",
     "text": [
      "Result: 7, time: 0.006333s\n",
      "Result: 1, time: 0.006293s\n",
      "Result: 7, time: 0.006261s\n",
      "Result: 6, time: 0.006284s\n",
      "Result: 5, time: 0.006218s\n",
      "Result: 2, time: 0.006238s\n",
      "Result: 1, time: 0.006222s\n",
      "Result: 7, time: 0.006202s\n",
      "Result: 9, time: 0.006204s\n",
      "Result: 0, time: 0.006194s\n",
      "\n",
      " 平均每张处理时间: 6.245 ms\n"
     ]
    }
   ],
   "source": [
    "import time\n",
    "hw_time = [0] * IMG_NUM\n",
    "out_buf = allocate(shape=(10000, 10), dtype = np.float32)\n",
    "for i in range (IMG_NUM):\n",
    "    t0 = time.time()\n",
    "    dma.sendchannel.transfer(test_images[index[i]])  # 调用DMA将待预测图片数据传输到IP核\n",
    "    dma.recvchannel.transfer(out_buf[index[i]])  # 调用DMA从IP核获取RNN的推导结果\n",
    "    dma.sendchannel.wait()  # 等待DMA发送完成\n",
    "    dma.recvchannel.wait()  # 等待DMA接收完成\n",
    "    t1 = time.time()\n",
    "    hw_time[i] = t1 - t0\n",
    "\n",
    "    out_list = np.array(out_buf[index[i]]).tolist()\n",
    "    max_indx = out_list.index(max(out_list))  # 推导结果向量的最大分量的下标即为预测结果\n",
    "    print('Result: %d,' % max_indx, 'time: {:1.6f}s'.format(hw_time[i]))\n",
    "    \n",
    "\n",
    "# 统计平均推理时间（单位：秒）\n",
    "avg_hw_time_sec = sum(hw_time) / IMG_NUM\n",
    "# 转换为毫秒\n",
    "avg_hw_time_ms = avg_hw_time_sec * 1000\n",
    "print(f\"\\n 平均每张处理时间: {avg_hw_time_ms:.3f} ms\")\n"
   ]
  },
  {
   "cell_type": "code",
   "execution_count": null,
   "metadata": {},
   "outputs": [],
   "source": []
  },
  {
   "cell_type": "code",
   "execution_count": null,
   "metadata": {},
   "outputs": [],
   "source": []
  },
  {
   "cell_type": "code",
   "execution_count": null,
   "metadata": {},
   "outputs": [],
   "source": []
  }
 ],
 "metadata": {
  "kernelspec": {
   "display_name": "Python 3",
   "language": "python",
   "name": "python3"
  },
  "language_info": {
   "codemirror_mode": {
    "name": "ipython",
    "version": 3
   },
   "file_extension": ".py",
   "mimetype": "text/x-python",
   "name": "python",
   "nbconvert_exporter": "python",
   "pygments_lexer": "ipython3",
   "version": "3.6.5"
  }
 },
 "nbformat": 4,
 "nbformat_minor": 2
}
