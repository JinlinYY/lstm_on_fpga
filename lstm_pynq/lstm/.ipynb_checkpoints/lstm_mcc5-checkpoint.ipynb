{
 "cells": [
  {
   "cell_type": "code",
   "execution_count": null,
   "metadata": {},
   "outputs": [
    {
     "name": "stdout",
     "output_type": "stream",
     "text": [
      "\n",
      "开始硬件推理，共 10 条样本...\n",
      "\n",
      "Sample  1 | True: 1  Pred: 1  | Time: 0.869 ms  | ✔️\n"
     ]
    }
   ],
   "source": [
    "import time\n",
    "import numpy as np\n",
    "from pynq import Overlay, allocate\n",
    "import pynq.lib.dma\n",
    "\n",
    "# ==== 加载硬件 Overlay ====\n",
    "overlay = Overlay('/home/xilinx/jupyter_notebooks/lstm/vivado_mcc5/lstm_mcc5.bit')  # 替换为你 bitstream 路径\n",
    "dma = overlay.axi_dma_0\n",
    "\n",
    "# ==== 加载测试数据 ====\n",
    "inputs = np.loadtxt('/home/xilinx/jupyter_notebooks/lstm/data_mcc5/test_10_inputs.csv', delimiter=\",\").reshape(-1, 200, 8).astype(np.float32)  # shape: (10, 200, 8)\n",
    "labels = np.loadtxt('/home/xilinx/jupyter_notebooks/lstm/data_mcc5/test_10_labels.csv', delimiter=\",\").astype(int)\n",
    "index = [0] * IMG_NUM\n",
    "IMG_NUM = len(inputs)\n",
    "hw_time = [0] * IMG_NUM\n",
    "\n",
    "# ==== 分配输出缓冲区：每行对应一个样本的推理输出（2 类） ====\n",
    "out_buf = allocate(shape=(IMG_NUM, 2), dtype=np.float32)\n",
    "\n",
    "print(f\"\\n开始硬件推理，共 {IMG_NUM} 条样本...\\n\")\n",
    "\n",
    "for i in range(IMG_NUM):\n",
    "    # 为每个输入分配单独缓冲区（或复用也可）\n",
    "#     inp_buf = allocate(shape=(200, 8), dtype=np.float32)\n",
    "#     np.copyto(inp_buf, inputs[i])\n",
    "\n",
    "    t0 = time.time()\n",
    "    dma.sendchannel.transfer(inp_buf[index[i]])           # 将输入送到 IP 核\n",
    "    dma.recvchannel.transfer(out_buf[index[i]])        # 接收对应输出\n",
    "    dma.sendchannel.wait()\n",
    "    dma.recvchannel.wait()\n",
    "    t1 = time.time()\n",
    "    hw_time[i] = t1 - t0\n",
    "\n",
    "    # 获取预测结果\n",
    "    out_list = np.array(out_buf[[index[i]]]).tolist()\n",
    "    pred = out_list.index(max(out_list))\n",
    "\n",
    "    print(f\"Sample {i+1:2d} | True: {labels[i]}  Pred: {pred}  | Time: {hw_time[i]*1000:.3f} ms  | {'✔️' if pred == labels[i] else '❌'}\")\n",
    "\n",
    "# ==== 统计平均推理时间 ====\n",
    "avg_hw_time_sec = sum(hw_time) / IMG_NUM\n",
    "avg_hw_time_ms = avg_hw_time_sec * 1000\n",
    "print(f\"\\n✅ 平均每条推理时间: {avg_hw_time_ms:.3f} ms\")\n"
   ]
  },
  {
   "cell_type": "code",
   "execution_count": null,
   "metadata": {},
   "outputs": [],
   "source": []
  }
 ],
 "metadata": {
  "kernelspec": {
   "display_name": "Python 3",
   "language": "python",
   "name": "python3"
  },
  "language_info": {
   "codemirror_mode": {
    "name": "ipython",
    "version": 3
   },
   "file_extension": ".py",
   "mimetype": "text/x-python",
   "name": "python",
   "nbconvert_exporter": "python",
   "pygments_lexer": "ipython3",
   "version": "3.6.5"
  }
 },
 "nbformat": 4,
 "nbformat_minor": 2
}
